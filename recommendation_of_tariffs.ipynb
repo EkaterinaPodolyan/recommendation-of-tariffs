{
 "cells": [
  {
   "cell_type": "markdown",
   "metadata": {},
   "source": [
    "# Рекомендация тарифов"
   ]
  },
  {
   "cell_type": "markdown",
   "metadata": {},
   "source": [
    "В вашем распоряжении данные о поведении клиентов, которые уже перешли на эти тарифы (из проекта курса «Статистический анализ данных»). Нужно построить модель для задачи классификации, которая выберет подходящий тариф. Предобработка данных не понадобится — вы её уже сделали.\n",
    "\n",
    "Постройте модель с максимально большим значением *accuracy*. Чтобы сдать проект успешно, нужно довести долю правильных ответов по крайней мере до 0.75. Проверьте *accuracy* на тестовой выборке самостоятельно."
   ]
  },
  {
   "cell_type": "markdown",
   "metadata": {},
   "source": [
    "## Откроем и изучим файл"
   ]
  },
  {
   "cell_type": "code",
   "execution_count": 1,
   "metadata": {},
   "outputs": [],
   "source": [
    "import pandas as pd\n",
    "from sklearn.model_selection import train_test_split\n",
    "from sklearn.ensemble import RandomForestClassifier\n",
    "from sklearn.tree import DecisionTreeClassifier\n",
    "from sklearn.linear_model import LogisticRegression"
   ]
  },
  {
   "cell_type": "code",
   "execution_count": 2,
   "metadata": {},
   "outputs": [],
   "source": [
    "df = pd.read_csv('users_behavior.csv')"
   ]
  },
  {
   "cell_type": "code",
   "execution_count": 3,
   "metadata": {},
   "outputs": [
    {
     "data": {
      "text/html": [
       "<div>\n",
       "<style scoped>\n",
       "    .dataframe tbody tr th:only-of-type {\n",
       "        vertical-align: middle;\n",
       "    }\n",
       "\n",
       "    .dataframe tbody tr th {\n",
       "        vertical-align: top;\n",
       "    }\n",
       "\n",
       "    .dataframe thead th {\n",
       "        text-align: right;\n",
       "    }\n",
       "</style>\n",
       "<table border=\"1\" class=\"dataframe\">\n",
       "  <thead>\n",
       "    <tr style=\"text-align: right;\">\n",
       "      <th></th>\n",
       "      <th>calls</th>\n",
       "      <th>minutes</th>\n",
       "      <th>messages</th>\n",
       "      <th>mb_used</th>\n",
       "      <th>is_ultra</th>\n",
       "    </tr>\n",
       "  </thead>\n",
       "  <tbody>\n",
       "    <tr>\n",
       "      <th>0</th>\n",
       "      <td>40.0</td>\n",
       "      <td>311.90</td>\n",
       "      <td>83.0</td>\n",
       "      <td>19915.42</td>\n",
       "      <td>0</td>\n",
       "    </tr>\n",
       "    <tr>\n",
       "      <th>1</th>\n",
       "      <td>85.0</td>\n",
       "      <td>516.75</td>\n",
       "      <td>56.0</td>\n",
       "      <td>22696.96</td>\n",
       "      <td>0</td>\n",
       "    </tr>\n",
       "    <tr>\n",
       "      <th>2</th>\n",
       "      <td>77.0</td>\n",
       "      <td>467.66</td>\n",
       "      <td>86.0</td>\n",
       "      <td>21060.45</td>\n",
       "      <td>0</td>\n",
       "    </tr>\n",
       "    <tr>\n",
       "      <th>3</th>\n",
       "      <td>106.0</td>\n",
       "      <td>745.53</td>\n",
       "      <td>81.0</td>\n",
       "      <td>8437.39</td>\n",
       "      <td>1</td>\n",
       "    </tr>\n",
       "    <tr>\n",
       "      <th>4</th>\n",
       "      <td>66.0</td>\n",
       "      <td>418.74</td>\n",
       "      <td>1.0</td>\n",
       "      <td>14502.75</td>\n",
       "      <td>0</td>\n",
       "    </tr>\n",
       "  </tbody>\n",
       "</table>\n",
       "</div>"
      ],
      "text/plain": [
       "   calls  minutes  messages   mb_used  is_ultra\n",
       "0   40.0   311.90      83.0  19915.42         0\n",
       "1   85.0   516.75      56.0  22696.96         0\n",
       "2   77.0   467.66      86.0  21060.45         0\n",
       "3  106.0   745.53      81.0   8437.39         1\n",
       "4   66.0   418.74       1.0  14502.75         0"
      ]
     },
     "execution_count": 3,
     "metadata": {},
     "output_type": "execute_result"
    }
   ],
   "source": [
    "df.head()"
   ]
  },
  {
   "cell_type": "code",
   "execution_count": 4,
   "metadata": {},
   "outputs": [
    {
     "name": "stdout",
     "output_type": "stream",
     "text": [
      "<class 'pandas.core.frame.DataFrame'>\n",
      "RangeIndex: 3214 entries, 0 to 3213\n",
      "Data columns (total 5 columns):\n",
      " #   Column    Non-Null Count  Dtype  \n",
      "---  ------    --------------  -----  \n",
      " 0   calls     3214 non-null   float64\n",
      " 1   minutes   3214 non-null   float64\n",
      " 2   messages  3214 non-null   float64\n",
      " 3   mb_used   3214 non-null   float64\n",
      " 4   is_ultra  3214 non-null   int64  \n",
      "dtypes: float64(4), int64(1)\n",
      "memory usage: 125.7 KB\n"
     ]
    }
   ],
   "source": [
    "df.info()"
   ]
  },
  {
   "cell_type": "markdown",
   "metadata": {},
   "source": [
    "Как видим, пропущенных данных нет.\n",
    "Тип данных столбца messages - float64, что кажется избыточным, так как количество сообщений - число целое. Заменим здесь тип данных."
   ]
  },
  {
   "cell_type": "code",
   "execution_count": 5,
   "metadata": {},
   "outputs": [
    {
     "name": "stdout",
     "output_type": "stream",
     "text": [
      "<class 'pandas.core.frame.DataFrame'>\n",
      "RangeIndex: 3214 entries, 0 to 3213\n",
      "Data columns (total 5 columns):\n",
      " #   Column    Non-Null Count  Dtype  \n",
      "---  ------    --------------  -----  \n",
      " 0   calls     3214 non-null   float64\n",
      " 1   minutes   3214 non-null   float64\n",
      " 2   messages  3214 non-null   int64  \n",
      " 3   mb_used   3214 non-null   float64\n",
      " 4   is_ultra  3214 non-null   int64  \n",
      "dtypes: float64(3), int64(2)\n",
      "memory usage: 125.7 KB\n"
     ]
    }
   ],
   "source": [
    "df['messages'] = df['messages'].astype('int')\n",
    "df.info()"
   ]
  },
  {
   "cell_type": "markdown",
   "metadata": {},
   "source": [
    "Проверим наличие явных дубликатов"
   ]
  },
  {
   "cell_type": "code",
   "execution_count": 6,
   "metadata": {},
   "outputs": [
    {
     "data": {
      "text/plain": [
       "0"
      ]
     },
     "execution_count": 6,
     "metadata": {},
     "output_type": "execute_result"
    }
   ],
   "source": [
    "df.duplicated().sum()"
   ]
  },
  {
   "cell_type": "markdown",
   "metadata": {},
   "source": [
    "Дубликатов не обнаружено"
   ]
  },
  {
   "cell_type": "markdown",
   "metadata": {},
   "source": [
    "Вывод:\n",
    "В данных не обнаружено пропущенных значений, дубликатов. Названия столбцов записаны корректно. Столбец с сообщениями приведён к целочисленному типу."
   ]
  },
  {
   "cell_type": "markdown",
   "metadata": {},
   "source": [
    "## Разобьём данные на выборки"
   ]
  },
  {
   "cell_type": "markdown",
   "metadata": {},
   "source": [
    "Поскольку у нас нет спрятанной тестовой выборки, то данные нужно разбить на три части: обучающую, валидационную и тестовую.\n",
    "Разобъем исходные данные в соотношении 3:1:1, сделав тестовый и валидационный наборы одинакового размера.\n"
   ]
  },
  {
   "cell_type": "code",
   "execution_count": 7,
   "metadata": {},
   "outputs": [],
   "source": [
    "df_train, df_test_valid = train_test_split(df, test_size = 0.4, random_state = 12345)"
   ]
  },
  {
   "cell_type": "markdown",
   "metadata": {},
   "source": [
    "Разобъём наши данные на целевые и признаки"
   ]
  },
  {
   "cell_type": "code",
   "execution_count": 8,
   "metadata": {},
   "outputs": [],
   "source": [
    "features_train = df_train.drop('is_ultra', axis = 1)\n",
    "target_train = df_train['is_ultra']"
   ]
  },
  {
   "cell_type": "code",
   "execution_count": 9,
   "metadata": {},
   "outputs": [],
   "source": [
    "features_test_valid = df_test_valid.drop('is_ultra', axis = 1)\n",
    "target_test_valid = df_test_valid['is_ultra']"
   ]
  },
  {
   "cell_type": "code",
   "execution_count": 10,
   "metadata": {},
   "outputs": [],
   "source": [
    "features_valid, features_test, target_valid, target_test = train_test_split(features_test_valid, target_test_valid, test_size = 0.5, random_state = 12345)"
   ]
  },
  {
   "cell_type": "markdown",
   "metadata": {},
   "source": [
    "Выводы:мы разбили данные на обучающий(60%), тестовый(20%) и валидационный(20%) наборы."
   ]
  },
  {
   "cell_type": "markdown",
   "metadata": {},
   "source": [
    "## Исследуем модели"
   ]
  },
  {
   "cell_type": "markdown",
   "metadata": {},
   "source": [
    "Исследуем модели.Используем дерево решений, случайный лес, логистическую регрессию."
   ]
  },
  {
   "cell_type": "markdown",
   "metadata": {},
   "source": [
    "Дерево решений"
   ]
  },
  {
   "cell_type": "code",
   "execution_count": 11,
   "metadata": {},
   "outputs": [
    {
     "name": "stdout",
     "output_type": "stream",
     "text": [
      "Лучший результат дерева: 0.7853810264385692\n",
      "Лучшая глубина дерева: 3\n"
     ]
    }
   ],
   "source": [
    "best_result = 0\n",
    "best_depth = 0\n",
    "for depth in range(1, 11):\n",
    "    model_tree = DecisionTreeClassifier(random_state = 12345, max_depth = depth)\n",
    "    model_tree.fit(features_train, target_train)\n",
    "    result = model_tree.score(features_valid, target_valid)\n",
    "    if result > best_result:\n",
    "        best_result = result\n",
    "        best_depth = depth\n",
    "print(\"Лучший результат дерева:\", best_result)\n",
    "print(\"Лучшая глубина дерева:\", best_depth)"
   ]
  },
  {
   "cell_type": "markdown",
   "metadata": {},
   "source": [
    "Случайный лес"
   ]
  },
  {
   "cell_type": "code",
   "execution_count": 12,
   "metadata": {},
   "outputs": [
    {
     "name": "stdout",
     "output_type": "stream",
     "text": [
      "Лучший результат леса 0.8040435458786936\n",
      "Лучшая глубина леса 6\n",
      "Лучшая модель:  RandomForestClassifier(max_depth=6, n_estimators=12, random_state=12345)\n"
     ]
    }
   ],
   "source": [
    "best_model_forest = None\n",
    "best_result_forest = 0\n",
    "best_depth = 0\n",
    "for depth in range(1, 11):\n",
    "    for est in range(3,33,3):\n",
    "        model = RandomForestClassifier(random_state = 12345, n_estimators = est, max_depth = depth)\n",
    "        model.fit(features_train, target_train)\n",
    "        result = model.score(features_valid, target_valid)\n",
    "        if result > best_result_forest:\n",
    "            best_model_forest = model\n",
    "            best_result_forest = result\n",
    "            best_depth = depth\n",
    "print(\"Лучший результат леса\", best_result_forest)\n",
    "print(\"Лучшая глубина леса\", best_depth)\n",
    "print(\"Лучшая модель: \", best_model_forest)"
   ]
  },
  {
   "cell_type": "markdown",
   "metadata": {},
   "source": [
    "Логистическая регрессия"
   ]
  },
  {
   "cell_type": "code",
   "execution_count": 13,
   "metadata": {},
   "outputs": [],
   "source": [
    "model_regression = LogisticRegression(random_state = 12345, solver = 'lbfgs', max_iter = 1000)"
   ]
  },
  {
   "cell_type": "code",
   "execution_count": 14,
   "metadata": {},
   "outputs": [
    {
     "name": "stdout",
     "output_type": "stream",
     "text": [
      "Accuracy при логистической регрессии: 0.7107309486780715\n"
     ]
    }
   ],
   "source": [
    "model_regression.fit(features_train, target_train)\n",
    "accuracy_regression = model_regression.score(features_valid, target_valid)\n",
    "print(\"Accuracy при логистической регрессии:\", accuracy_regression)"
   ]
  },
  {
   "cell_type": "markdown",
   "metadata": {},
   "source": [
    "После исследования модели результаты:\n",
    "дерево решений - 0,785  \n",
    "случайный лес - 0,804  \n",
    "логистическая регрессия - 0,711.    \n",
    "Пока самый высокий результат показал случайный лес, глубиной 6 и количеством деревьев 12."
   ]
  },
  {
   "cell_type": "markdown",
   "metadata": {},
   "source": [
    "## Проверим модель на тестовой выборке"
   ]
  },
  {
   "cell_type": "markdown",
   "metadata": {},
   "source": [
    "Дерево решений"
   ]
  },
  {
   "cell_type": "code",
   "execution_count": 15,
   "metadata": {},
   "outputs": [
    {
     "name": "stdout",
     "output_type": "stream",
     "text": [
      "Результат дерева решений: 0.7791601866251944\n"
     ]
    }
   ],
   "source": [
    "model_tree = DecisionTreeClassifier(random_state = 12345, max_depth = 3)\n",
    "model_tree.fit(features_train, target_train)\n",
    "result_tree = model_tree.score(features_test, target_test)\n",
    "print(\"Результат дерева решений:\", result_tree)"
   ]
  },
  {
   "cell_type": "markdown",
   "metadata": {},
   "source": [
    "Случайный лес"
   ]
  },
  {
   "cell_type": "code",
   "execution_count": 16,
   "metadata": {},
   "outputs": [
    {
     "name": "stdout",
     "output_type": "stream",
     "text": [
      "Результат случайного леса: 0.7947122861586314\n"
     ]
    }
   ],
   "source": [
    "model_random_forest = RandomForestClassifier(max_depth = 6, n_estimators = 12,random_state = 12345)\n",
    "model_random_forest.fit(features_train, target_train)\n",
    "result_random_forest = model_random_forest.score(features_test, target_test)\n",
    "print(\"Результат случайного леса:\", result_random_forest)"
   ]
  },
  {
   "cell_type": "markdown",
   "metadata": {},
   "source": [
    "Логистическая регрессия"
   ]
  },
  {
   "cell_type": "code",
   "execution_count": 17,
   "metadata": {},
   "outputs": [
    {
     "name": "stdout",
     "output_type": "stream",
     "text": [
      "Результат логистической регрессии: 0.6842923794712286\n"
     ]
    }
   ],
   "source": [
    "model_logistic_regression = LogisticRegression(solver = 'lbfgs', random_state = 12345, max_iter = 1000)\n",
    "model_logistic_regression.fit(features_train, target_train)\n",
    "result_logistic_regression = model_logistic_regression.score(features_test, target_test)\n",
    "print(\"Результат логистической регрессии:\", result_logistic_regression)"
   ]
  },
  {
   "cell_type": "markdown",
   "metadata": {},
   "source": [
    "Проверка на тестовой выборке дала значения, близкие к валидационным. Всё так же лидирует случайный лес."
   ]
  },
  {
   "cell_type": "markdown",
   "metadata": {},
   "source": [
    "Вывод:   \n",
    "Исходные данные были изучены, откорректированы и разделены на обучающую, валидационную и тестовую выборки. Исследовались модели. Использовалось дерево решений, случайный лес, логистическая регрессия. Результаты исследования:    \n",
    "дерево решений - 0,785    \n",
    "случайный лес - 0,804    \n",
    "логистическая регрессия - 0,711.    \n",
    "Самый высокий результат показал случайный лес, глубиной 6 и количеством деревьев 12.   \n",
    "Модели были проверены на тестовой выборке. Результаты проверки:   \n",
    "дерево решений - 0,779   \n",
    "случайный лес - 0,795    \n",
    "логистическая регрессия - 0,684.        \n",
    "И снова самый высокий результат у случайного леса.\n",
    "Была достигнута accuracy выше 0,75"
   ]
  }
 ],
 "metadata": {
  "ExecuteTimeLog": [
   {
    "duration": 421,
    "start_time": "2023-04-06T01:41:32.920Z"
   },
   {
    "duration": 127,
    "start_time": "2023-04-06T01:42:07.640Z"
   },
   {
    "duration": 16,
    "start_time": "2023-04-06T01:42:19.435Z"
   },
   {
    "duration": 13,
    "start_time": "2023-04-06T01:42:34.244Z"
   },
   {
    "duration": 4,
    "start_time": "2023-04-06T02:04:03.255Z"
   },
   {
    "duration": 10,
    "start_time": "2023-04-06T02:04:13.465Z"
   },
   {
    "duration": 75,
    "start_time": "2023-04-06T02:04:23.500Z"
   },
   {
    "duration": 13,
    "start_time": "2023-04-06T02:04:27.904Z"
   },
   {
    "duration": 8,
    "start_time": "2023-04-06T02:59:45.764Z"
   },
   {
    "duration": 10,
    "start_time": "2023-04-06T03:00:07.439Z"
   },
   {
    "duration": 8,
    "start_time": "2023-04-06T03:00:16.637Z"
   },
   {
    "duration": 19,
    "start_time": "2023-04-06T03:49:18.361Z"
   },
   {
    "duration": 4,
    "start_time": "2023-04-06T03:49:29.623Z"
   },
   {
    "duration": 9,
    "start_time": "2023-04-06T03:49:53.400Z"
   },
   {
    "duration": 5,
    "start_time": "2023-04-06T03:50:23.629Z"
   },
   {
    "duration": 6,
    "start_time": "2023-04-06T04:33:39.862Z"
   },
   {
    "duration": 640,
    "start_time": "2023-04-06T04:34:13.188Z"
   },
   {
    "duration": 5,
    "start_time": "2023-04-06T04:34:20.191Z"
   },
   {
    "duration": 5,
    "start_time": "2023-04-06T04:34:24.388Z"
   },
   {
    "duration": 14,
    "start_time": "2023-04-06T04:34:37.175Z"
   },
   {
    "duration": 15,
    "start_time": "2023-04-06T04:34:54.779Z"
   },
   {
    "duration": 4,
    "start_time": "2023-04-06T04:35:08.648Z"
   },
   {
    "duration": 7,
    "start_time": "2023-04-06T05:02:53.255Z"
   },
   {
    "duration": 46,
    "start_time": "2023-04-06T05:07:05.554Z"
   },
   {
    "duration": 4,
    "start_time": "2023-04-06T05:07:15.472Z"
   },
   {
    "duration": 5,
    "start_time": "2023-04-06T05:07:16.408Z"
   },
   {
    "duration": 7,
    "start_time": "2023-04-06T05:07:16.961Z"
   },
   {
    "duration": 13,
    "start_time": "2023-04-06T05:07:59.914Z"
   },
   {
    "duration": 6,
    "start_time": "2023-04-06T05:08:23.659Z"
   },
   {
    "duration": 1005,
    "start_time": "2023-04-11T05:48:51.020Z"
   },
   {
    "duration": 130,
    "start_time": "2023-04-11T05:48:52.027Z"
   },
   {
    "duration": 18,
    "start_time": "2023-04-11T05:48:52.159Z"
   },
   {
    "duration": 44,
    "start_time": "2023-04-11T05:48:52.179Z"
   },
   {
    "duration": 41,
    "start_time": "2023-04-11T05:48:52.225Z"
   },
   {
    "duration": 52,
    "start_time": "2023-04-11T05:48:52.268Z"
   },
   {
    "duration": 43,
    "start_time": "2023-04-11T05:48:52.321Z"
   },
   {
    "duration": 20,
    "start_time": "2023-04-11T05:48:52.366Z"
   },
   {
    "duration": 41,
    "start_time": "2023-04-11T05:48:52.387Z"
   },
   {
    "duration": 38,
    "start_time": "2023-04-11T05:48:52.430Z"
   },
   {
    "duration": 113,
    "start_time": "2023-04-11T05:52:21.627Z"
   },
   {
    "duration": 54,
    "start_time": "2023-04-11T10:18:00.982Z"
   },
   {
    "duration": 1200,
    "start_time": "2023-04-12T03:17:29.564Z"
   },
   {
    "duration": 121,
    "start_time": "2023-04-12T03:17:30.766Z"
   },
   {
    "duration": 17,
    "start_time": "2023-04-12T03:17:30.889Z"
   },
   {
    "duration": 18,
    "start_time": "2023-04-12T03:17:30.908Z"
   },
   {
    "duration": 37,
    "start_time": "2023-04-12T03:17:30.927Z"
   },
   {
    "duration": 26,
    "start_time": "2023-04-12T03:17:30.966Z"
   },
   {
    "duration": 28,
    "start_time": "2023-04-12T03:17:30.994Z"
   },
   {
    "duration": 25,
    "start_time": "2023-04-12T03:17:31.024Z"
   },
   {
    "duration": 50,
    "start_time": "2023-04-12T03:17:31.051Z"
   },
   {
    "duration": 43,
    "start_time": "2023-04-12T03:17:31.104Z"
   },
   {
    "duration": 173,
    "start_time": "2023-04-12T03:17:31.148Z"
   },
   {
    "duration": 1086,
    "start_time": "2023-04-12T03:18:56.359Z"
   },
   {
    "duration": 28,
    "start_time": "2023-04-12T03:18:57.447Z"
   },
   {
    "duration": 15,
    "start_time": "2023-04-12T03:18:57.477Z"
   },
   {
    "duration": 12,
    "start_time": "2023-04-12T03:18:57.493Z"
   },
   {
    "duration": 17,
    "start_time": "2023-04-12T03:18:57.507Z"
   },
   {
    "duration": 14,
    "start_time": "2023-04-12T03:18:57.526Z"
   },
   {
    "duration": 8,
    "start_time": "2023-04-12T03:18:57.541Z"
   },
   {
    "duration": 14,
    "start_time": "2023-04-12T03:18:57.551Z"
   },
   {
    "duration": 6,
    "start_time": "2023-04-12T03:18:57.567Z"
   },
   {
    "duration": 13,
    "start_time": "2023-04-12T03:18:57.575Z"
   },
   {
    "duration": 75,
    "start_time": "2023-04-12T03:18:57.589Z"
   },
   {
    "duration": 63,
    "start_time": "2023-04-12T04:04:40.421Z"
   },
   {
    "duration": 248,
    "start_time": "2023-04-12T04:11:18.626Z"
   },
   {
    "duration": 155,
    "start_time": "2023-04-12T04:16:42.203Z"
   },
   {
    "duration": 125,
    "start_time": "2023-04-12T04:39:45.066Z"
   },
   {
    "duration": 272,
    "start_time": "2023-04-12T04:40:09.557Z"
   },
   {
    "duration": 268,
    "start_time": "2023-04-12T04:41:23.296Z"
   },
   {
    "duration": 118,
    "start_time": "2023-04-12T04:42:08.992Z"
   },
   {
    "duration": 260,
    "start_time": "2023-04-12T04:42:15.947Z"
   },
   {
    "duration": 46,
    "start_time": "2023-04-12T17:56:27.048Z"
   },
   {
    "duration": 8,
    "start_time": "2023-04-12T17:56:43.002Z"
   },
   {
    "duration": 1153,
    "start_time": "2023-04-12T17:56:54.101Z"
   },
   {
    "duration": 173,
    "start_time": "2023-04-12T17:56:55.256Z"
   },
   {
    "duration": 23,
    "start_time": "2023-04-12T17:56:55.431Z"
   },
   {
    "duration": 12,
    "start_time": "2023-04-12T17:56:55.456Z"
   },
   {
    "duration": 19,
    "start_time": "2023-04-12T17:56:55.470Z"
   },
   {
    "duration": 7,
    "start_time": "2023-04-12T17:56:55.490Z"
   },
   {
    "duration": 8,
    "start_time": "2023-04-12T17:56:55.498Z"
   },
   {
    "duration": 15,
    "start_time": "2023-04-12T17:56:55.509Z"
   },
   {
    "duration": 13,
    "start_time": "2023-04-12T17:56:55.527Z"
   },
   {
    "duration": 9,
    "start_time": "2023-04-12T17:56:55.542Z"
   },
   {
    "duration": 82,
    "start_time": "2023-04-12T17:56:55.552Z"
   },
   {
    "duration": 277,
    "start_time": "2023-04-12T17:56:55.636Z"
   },
   {
    "duration": 28,
    "start_time": "2023-04-12T18:41:29.563Z"
   },
   {
    "duration": 101,
    "start_time": "2023-04-12T18:41:34.091Z"
   },
   {
    "duration": 3,
    "start_time": "2023-04-12T18:41:40.883Z"
   },
   {
    "duration": 9,
    "start_time": "2023-04-12T18:48:41.766Z"
   },
   {
    "duration": 3,
    "start_time": "2023-04-12T18:48:56.891Z"
   },
   {
    "duration": 28,
    "start_time": "2023-04-12T18:48:58.062Z"
   },
   {
    "duration": 25,
    "start_time": "2023-04-12T18:49:36.771Z"
   },
   {
    "duration": 3,
    "start_time": "2023-04-12T18:49:53.131Z"
   },
   {
    "duration": 24,
    "start_time": "2023-04-12T18:49:56.280Z"
   },
   {
    "duration": 3,
    "start_time": "2023-04-12T18:50:02.064Z"
   },
   {
    "duration": 25,
    "start_time": "2023-04-12T18:50:03.070Z"
   },
   {
    "duration": 3,
    "start_time": "2023-04-12T18:50:08.539Z"
   },
   {
    "duration": 14,
    "start_time": "2023-04-12T18:50:09.702Z"
   },
   {
    "duration": 3,
    "start_time": "2023-04-12T18:50:16.160Z"
   },
   {
    "duration": 26,
    "start_time": "2023-04-12T18:50:16.840Z"
   },
   {
    "duration": 57,
    "start_time": "2023-04-13T03:43:27.094Z"
   },
   {
    "duration": 1079,
    "start_time": "2023-04-13T03:43:39.835Z"
   },
   {
    "duration": 71,
    "start_time": "2023-04-13T03:43:40.916Z"
   },
   {
    "duration": 15,
    "start_time": "2023-04-13T03:43:40.989Z"
   },
   {
    "duration": 16,
    "start_time": "2023-04-13T03:43:41.006Z"
   },
   {
    "duration": 10,
    "start_time": "2023-04-13T03:43:41.028Z"
   },
   {
    "duration": 5,
    "start_time": "2023-04-13T03:43:41.040Z"
   },
   {
    "duration": 5,
    "start_time": "2023-04-13T03:43:41.047Z"
   },
   {
    "duration": 4,
    "start_time": "2023-04-13T03:43:41.053Z"
   },
   {
    "duration": 5,
    "start_time": "2023-04-13T03:43:41.058Z"
   },
   {
    "duration": 5,
    "start_time": "2023-04-13T03:43:41.065Z"
   },
   {
    "duration": 101,
    "start_time": "2023-04-13T03:43:41.071Z"
   },
   {
    "duration": 282,
    "start_time": "2023-04-13T03:43:41.173Z"
   },
   {
    "duration": 3,
    "start_time": "2023-04-13T03:43:41.456Z"
   },
   {
    "duration": 22,
    "start_time": "2023-04-13T03:43:41.460Z"
   },
   {
    "duration": 19,
    "start_time": "2023-04-13T03:43:41.483Z"
   },
   {
    "duration": 278,
    "start_time": "2023-04-13T03:44:02.786Z"
   },
   {
    "duration": 3,
    "start_time": "2023-04-13T03:44:32.230Z"
   },
   {
    "duration": 20,
    "start_time": "2023-04-13T03:44:34.629Z"
   },
   {
    "duration": 2,
    "start_time": "2023-04-13T03:44:56.153Z"
   },
   {
    "duration": 20,
    "start_time": "2023-04-13T03:44:58.284Z"
   },
   {
    "duration": 52,
    "start_time": "2023-04-13T03:46:37.802Z"
   },
   {
    "duration": 3,
    "start_time": "2023-04-13T03:48:46.901Z"
   },
   {
    "duration": 22,
    "start_time": "2023-04-13T03:49:03.232Z"
   },
   {
    "duration": 20,
    "start_time": "2023-04-13T03:49:12.973Z"
   },
   {
    "duration": 7412,
    "start_time": "2023-04-13T03:56:57.194Z"
   },
   {
    "duration": 1060,
    "start_time": "2023-04-13T03:57:38.654Z"
   },
   {
    "duration": 29,
    "start_time": "2023-04-13T03:57:39.716Z"
   },
   {
    "duration": 17,
    "start_time": "2023-04-13T03:57:39.747Z"
   },
   {
    "duration": 11,
    "start_time": "2023-04-13T03:57:39.766Z"
   },
   {
    "duration": 11,
    "start_time": "2023-04-13T03:57:39.779Z"
   },
   {
    "duration": 6,
    "start_time": "2023-04-13T03:57:39.792Z"
   },
   {
    "duration": 28,
    "start_time": "2023-04-13T03:57:39.799Z"
   },
   {
    "duration": 4,
    "start_time": "2023-04-13T03:57:39.830Z"
   },
   {
    "duration": 6,
    "start_time": "2023-04-13T03:57:39.836Z"
   },
   {
    "duration": 3,
    "start_time": "2023-04-13T03:57:39.844Z"
   },
   {
    "duration": 79,
    "start_time": "2023-04-13T03:57:39.849Z"
   },
   {
    "duration": 7301,
    "start_time": "2023-04-13T03:57:39.931Z"
   },
   {
    "duration": 2,
    "start_time": "2023-04-13T03:57:47.234Z"
   },
   {
    "duration": 30,
    "start_time": "2023-04-13T03:57:47.238Z"
   },
   {
    "duration": 7523,
    "start_time": "2023-04-13T03:58:45.185Z"
   },
   {
    "duration": 1108,
    "start_time": "2023-04-13T04:07:20.082Z"
   },
   {
    "duration": 27,
    "start_time": "2023-04-13T04:07:21.192Z"
   },
   {
    "duration": 18,
    "start_time": "2023-04-13T04:07:21.221Z"
   },
   {
    "duration": 22,
    "start_time": "2023-04-13T04:07:21.240Z"
   },
   {
    "duration": 9,
    "start_time": "2023-04-13T04:07:21.264Z"
   },
   {
    "duration": 20,
    "start_time": "2023-04-13T04:07:21.275Z"
   },
   {
    "duration": 16,
    "start_time": "2023-04-13T04:07:21.296Z"
   },
   {
    "duration": 15,
    "start_time": "2023-04-13T04:07:21.314Z"
   },
   {
    "duration": 16,
    "start_time": "2023-04-13T04:07:21.331Z"
   },
   {
    "duration": 15,
    "start_time": "2023-04-13T04:07:21.349Z"
   },
   {
    "duration": 78,
    "start_time": "2023-04-13T04:07:21.366Z"
   },
   {
    "duration": 28903,
    "start_time": "2023-04-13T04:07:21.446Z"
   },
   {
    "duration": 2,
    "start_time": "2023-04-13T04:07:50.351Z"
   },
   {
    "duration": 36,
    "start_time": "2023-04-13T04:07:50.355Z"
   },
   {
    "duration": 23473,
    "start_time": "2023-04-13T04:08:41.075Z"
   },
   {
    "duration": 31843,
    "start_time": "2023-04-13T04:09:21.749Z"
   },
   {
    "duration": 4560,
    "start_time": "2023-04-13T04:12:34.605Z"
   },
   {
    "duration": 128,
    "start_time": "2023-04-13T04:16:05.107Z"
   },
   {
    "duration": 4547,
    "start_time": "2023-04-13T05:02:44.208Z"
   },
   {
    "duration": 11,
    "start_time": "2023-04-13T05:10:43.785Z"
   },
   {
    "duration": 11,
    "start_time": "2023-04-13T05:14:16.378Z"
   },
   {
    "duration": 19,
    "start_time": "2023-04-13T05:14:32.616Z"
   },
   {
    "duration": 10,
    "start_time": "2023-04-13T05:23:30.429Z"
   },
   {
    "duration": 9,
    "start_time": "2023-04-13T05:25:03.329Z"
   },
   {
    "duration": 9,
    "start_time": "2023-04-13T05:25:26.165Z"
   },
   {
    "duration": 9,
    "start_time": "2023-04-13T05:25:55.360Z"
   },
   {
    "duration": 11,
    "start_time": "2023-04-13T05:26:00.571Z"
   },
   {
    "duration": 10,
    "start_time": "2023-04-13T05:26:33.873Z"
   },
   {
    "duration": 9,
    "start_time": "2023-04-13T05:26:46.059Z"
   },
   {
    "duration": 45,
    "start_time": "2023-04-13T05:27:01.095Z"
   },
   {
    "duration": 43,
    "start_time": "2023-04-13T05:27:32.244Z"
   },
   {
    "duration": 20,
    "start_time": "2023-04-13T05:32:13.448Z"
   },
   {
    "duration": 1364,
    "start_time": "2023-04-13T06:23:46.070Z"
   },
   {
    "duration": 51,
    "start_time": "2023-04-13T06:23:47.439Z"
   },
   {
    "duration": 23,
    "start_time": "2023-04-13T06:23:47.492Z"
   },
   {
    "duration": 51,
    "start_time": "2023-04-13T06:23:47.517Z"
   },
   {
    "duration": 32,
    "start_time": "2023-04-13T06:23:47.571Z"
   },
   {
    "duration": 44,
    "start_time": "2023-04-13T06:23:47.606Z"
   },
   {
    "duration": 7,
    "start_time": "2023-04-13T06:23:47.661Z"
   },
   {
    "duration": 8,
    "start_time": "2023-04-13T06:23:47.671Z"
   },
   {
    "duration": 5,
    "start_time": "2023-04-13T06:23:47.682Z"
   },
   {
    "duration": 51,
    "start_time": "2023-04-13T06:23:47.689Z"
   },
   {
    "duration": 115,
    "start_time": "2023-04-13T06:23:47.751Z"
   },
   {
    "duration": 4931,
    "start_time": "2023-04-13T06:23:47.869Z"
   },
   {
    "duration": 3,
    "start_time": "2023-04-13T06:23:52.801Z"
   },
   {
    "duration": 41,
    "start_time": "2023-04-13T06:23:52.806Z"
   },
   {
    "duration": 18,
    "start_time": "2023-04-13T06:23:52.849Z"
   },
   {
    "duration": 41,
    "start_time": "2023-04-13T06:23:52.869Z"
   },
   {
    "duration": 43,
    "start_time": "2023-04-13T06:23:52.911Z"
   },
   {
    "duration": 1126,
    "start_time": "2023-11-05T04:18:45.314Z"
   },
   {
    "duration": 114,
    "start_time": "2023-11-05T04:18:46.442Z"
   },
   {
    "duration": 16,
    "start_time": "2023-11-05T04:18:46.558Z"
   },
   {
    "duration": 11,
    "start_time": "2023-11-05T04:18:46.576Z"
   },
   {
    "duration": 11,
    "start_time": "2023-11-05T04:18:46.589Z"
   },
   {
    "duration": 12,
    "start_time": "2023-11-05T04:18:46.601Z"
   },
   {
    "duration": 11,
    "start_time": "2023-11-05T04:18:46.614Z"
   },
   {
    "duration": 11,
    "start_time": "2023-11-05T04:18:46.627Z"
   },
   {
    "duration": 15,
    "start_time": "2023-11-05T04:18:46.640Z"
   },
   {
    "duration": 20,
    "start_time": "2023-11-05T04:18:46.657Z"
   },
   {
    "duration": 73,
    "start_time": "2023-11-05T04:18:46.679Z"
   },
   {
    "duration": 4279,
    "start_time": "2023-11-05T04:18:46.754Z"
   },
   {
    "duration": 4,
    "start_time": "2023-11-05T04:18:51.034Z"
   },
   {
    "duration": 57,
    "start_time": "2023-11-05T04:18:51.040Z"
   },
   {
    "duration": 11,
    "start_time": "2023-11-05T04:18:51.099Z"
   },
   {
    "duration": 45,
    "start_time": "2023-11-05T04:18:51.111Z"
   },
   {
    "duration": 26,
    "start_time": "2023-11-05T04:18:51.158Z"
   }
  ],
  "kernelspec": {
   "display_name": "Python 3 (ipykernel)",
   "language": "python",
   "name": "python3"
  },
  "language_info": {
   "codemirror_mode": {
    "name": "ipython",
    "version": 3
   },
   "file_extension": ".py",
   "mimetype": "text/x-python",
   "name": "python",
   "nbconvert_exporter": "python",
   "pygments_lexer": "ipython3",
   "version": "3.9.13"
  },
  "toc": {
   "base_numbering": 1,
   "nav_menu": {},
   "number_sections": true,
   "sideBar": true,
   "skip_h1_title": true,
   "title_cell": "Table of Contents",
   "title_sidebar": "Contents",
   "toc_cell": false,
   "toc_position": {},
   "toc_section_display": true,
   "toc_window_display": false
  }
 },
 "nbformat": 4,
 "nbformat_minor": 2
}
